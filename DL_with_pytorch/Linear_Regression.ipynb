{
 "cells": [
  {
   "cell_type": "code",
   "execution_count": 21,
   "metadata": {
    "collapsed": true,
    "pycharm": {
     "is_executing": false
    }
   },
   "outputs": [
    {
     "data": {
      "text/plain": "<torch._C.Generator at 0x23305613b70>"
     },
     "metadata": {},
     "output_type": "execute_result",
     "execution_count": 21
    }
   ],
   "source": [
    "#01.선형회귀\n",
    "import torch\n",
    "import torch.nn as nn\n",
    "import torch.nn.functional as F\n",
    "import torch.optim as optim\n",
    "torch.manual_seed(1)"
   ]
  },
  {
   "cell_type": "code",
   "execution_count": 22,
   "outputs": [],
   "source": [
    "x_train=torch.FloatTensor([[1],[2],[3]])\n",
    "y_train=torch.FloatTensor([[4],[5],[6]])\n",
    "# 데이터에 대한 이해 -> 가설 수립-> 손실 계산하기-> 경사 하강법\n",
    "# 비용 함수(cost function) = 손실 함수(loss function) = 오차 함수(error function) = 목적 함수(objective function)\n",
    "\n"
   ],
   "metadata": {
    "collapsed": false,
    "pycharm": {
     "name": "#%%\n",
     "is_executing": false
    }
   }
  },
  {
   "cell_type": "code",
   "execution_count": 23,
   "outputs": [
    {
     "name": "stdout",
     "text": [
      "tensor([[1.],\n",
      "        [2.],\n",
      "        [3.]])\n",
      "torch.Size([3, 1])\n"
     ],
     "output_type": "stream"
    }
   ],
   "source": [
    "print(x_train)\n",
    "print(x_train.shape)"
   ],
   "metadata": {
    "collapsed": false,
    "pycharm": {
     "name": "#%%\n",
     "is_executing": false
    }
   }
  },
  {
   "cell_type": "code",
   "execution_count": 24,
   "outputs": [
    {
     "name": "stdout",
     "text": [
      "tensor([[4.],\n",
      "        [5.],\n",
      "        [6.]])\n",
      "torch.Size([3, 1])\n"
     ],
     "output_type": "stream"
    }
   ],
   "source": [
    "print(y_train)\n",
    "print(y_train.shape)"
   ],
   "metadata": {
    "collapsed": false,
    "pycharm": {
     "name": "#%%\n",
     "is_executing": false
    }
   }
  },
  {
   "cell_type": "code",
   "execution_count": 25,
   "outputs": [
    {
     "name": "stdout",
     "text": [
      "tensor([0.], requires_grad=True)\n",
      "tensor([0.], requires_grad=True)\n"
     ],
     "output_type": "stream"
    }
   ],
   "source": [
    "W=torch.zeros(1,requires_grad=True) # requir~는 인자로 주어졌으며, 이 변수는 학습을 통해 값이 게속 변경되는 변수임을 명시\n",
    "print(W)\n",
    "b=torch.zeros(1,requires_grad=True) #requires_grad라는 속성은 자동미분기능 속성입니다. 선형 회귀부터 신경망같은 복잡한 구조에서 파라미터들이 모두 이 기능이 적용됩니다.\n",
    "print(b)\n",
    "# 현재 직선의 방정식은 y=0*x+0"
   ],
   "metadata": {
    "collapsed": false,
    "pycharm": {
     "name": "#%%\n",
     "is_executing": false
    }
   }
  },
  {
   "cell_type": "code",
   "execution_count": 26,
   "outputs": [
    {
     "name": "stdout",
     "text": [
      "tensor([[0.],\n",
      "        [0.],\n",
      "        [0.]], grad_fn=<AddBackward0>)\n",
      "tensor(25.6667, grad_fn=<MeanBackward0>)\n"
     ],
     "output_type": "stream"
    }
   ],
   "source": [
    "hypothesis=x_train*W+b\n",
    "print(hypothesis)\n",
    "cost=torch.mean((hypothesis-y_train)**2)\n",
    "print(cost) #grad_fn=<MeanBackward0> 는 뭐임?\n"
   ],
   "metadata": {
    "collapsed": false,
    "pycharm": {
     "name": "#%%\n",
     "is_executing": false
    }
   }
  },
  {
   "cell_type": "code",
   "execution_count": 27,
   "outputs": [],
   "source": [
    "optimizer=optim.SGD([W,b],lr=0.01) # W와 b를 SGD의 입력으로 설정\n",
    "optimizer.zero_grad() #gradient 0으로 초기화\n",
    "cost.backward() #cost함수를 이용하여 gradient 계산 \n",
    "optimizer.step() #W와 b를 업데이트\n"
   ],
   "metadata": {
    "collapsed": false,
    "pycharm": {
     "name": "#%%\n",
     "is_executing": false
    }
   }
  },
  {
   "cell_type": "code",
   "execution_count": 28,
   "outputs": [
    {
     "name": "stdout",
     "text": [
      "Epoch    0/2000 W:0.403, b: 0.189 Cost: 20.423275\n",
      "Epoch  100/2000 W:1.738, b: 1.322 Cost: 0.405913\n",
      "Epoch  200/2000 W:1.580, b: 1.681 Cost: 0.250829\n",
      "Epoch  300/2000 W:1.456, b: 1.963 Cost: 0.154997\n",
      "Epoch  400/2000 W:1.359, b: 2.185 Cost: 0.095779\n",
      "Epoch  500/2000 W:1.282, b: 2.359 Cost: 0.059185\n",
      "Epoch  600/2000 W:1.222, b: 2.496 Cost: 0.036573\n",
      "Epoch  700/2000 W:1.174, b: 2.604 Cost: 0.022600\n",
      "Epoch  800/2000 W:1.137, b: 2.689 Cost: 0.013965\n",
      "Epoch  900/2000 W:1.108, b: 2.755 Cost: 0.008630\n",
      "Epoch 1000/2000 W:1.085, b: 2.808 Cost: 0.005333\n",
      "Epoch 1100/2000 W:1.067, b: 2.849 Cost: 0.003295\n",
      "Epoch 1200/2000 W:1.052, b: 2.881 Cost: 0.002036\n",
      "Epoch 1300/2000 W:1.041, b: 2.907 Cost: 0.001258\n",
      "Epoch 1400/2000 W:1.032, b: 2.927 Cost: 0.000778\n",
      "Epoch 1500/2000 W:1.025, b: 2.942 Cost: 0.000480\n",
      "Epoch 1600/2000 W:1.020, b: 2.955 Cost: 0.000297\n",
      "Epoch 1700/2000 W:1.016, b: 2.964 Cost: 0.000183\n",
      "Epoch 1800/2000 W:1.012, b: 2.972 Cost: 0.000113\n",
      "Epoch 1900/2000 W:1.010, b: 2.978 Cost: 0.000070\n",
      "Epoch 2000/2000 W:1.008, b: 2.983 Cost: 0.000043\n"
     ],
     "output_type": "stream"
    }
   ],
   "source": [
    "nb_epochs=2000\n",
    "for epoch in range(nb_epochs+1):\n",
    "    hypothesis=x_train*W+b\n",
    "    cost=torch.mean((hypothesis-y_train)**2)\n",
    "    optimizer.zero_grad()\n",
    "    cost.backward()\n",
    "    optimizer.step()\n",
    "    if epoch %100==0:\n",
    "        print('Epoch {:4d}/{} W:{:.3f}, b: {:.3f} Cost: {:.6f}'.format(epoch, nb_epochs, W.item(),b.item(), cost.item()\n",
    "                                                                    )) #1개의 원소를 가진 Tensor를 python의 scalar로 만들때는 .item()을 사용한다.\n",
    "        # d는 정수, f는 부동소수\n",
    "    "
   ],
   "metadata": {
    "collapsed": false,
    "pycharm": {
     "name": "#%%\n",
     "is_executing": false
    }
   }
  },
  {
   "cell_type": "code",
   "execution_count": 1,
   "outputs": [
    {
     "name": "stdout",
     "text": [
      "수식을 w로 미분한 값 : {} 8.0\n"
     ],
     "output_type": "stream"
    }
   ],
   "source": [
    "# 02.자동미분\n",
    "import torch\n",
    "w=torch.tensor(2.0,requires_grad=True)\n",
    "y=w**2\n",
    "z=2*y+5\n",
    "z.backward()\n",
    "print('수식을 w로 미분한 값 : {}',format(w.grad))\n",
    "\n"
   ],
   "metadata": {
    "collapsed": false,
    "pycharm": {
     "name": "#%%\n",
     "is_executing": false
    }
   }
  },
  {
   "cell_type": "code",
   "execution_count": 26,
   "outputs": [
    {
     "name": "stdout",
     "text": [
      "tensor([ 232.2802,  549.6158, 1331.2263], grad_fn=<MulBackward0>)\n"
     ],
     "output_type": "stream"
    }
   ],
   "source": [
    "#########################################\n",
    "x = torch.randn(3, requires_grad=True)\n",
    "\n",
    "y = x * 2\n",
    "while y.data.norm() < 1000:\n",
    "    y = y * 2\n",
    "\n",
    "print(y)\n"
   ],
   "metadata": {
    "collapsed": false,
    "pycharm": {
     "name": "#%%\n",
     "is_executing": false
    }
   }
  },
  {
   "cell_type": "code",
   "execution_count": 27,
   "outputs": [
    {
     "name": "stdout",
     "text": [
      "None\n",
      "tensor([1.0240e+03, 1.0240e+07, 1.0240e-01])\n"
     ],
     "output_type": "stream"
    }
   ],
   "source": [
    "v = torch.tensor([1.0, 10000.0, 0.0001], dtype=torch.float) # gradient 값을 scaling 한다\n",
    "\n",
    "# The tensor passed into the backward function acts like weights for a weighted output of gradient. \n",
    "# Mathematically, this is the vector multiplied by the Jacobian matrix of non-scalar tensors \n",
    "# (discussed further in this post) hence it should almost always be a unit tensor of dimension same as\n",
    "# the tensor backward is called upon, unless weighted outputs needs to be calculated.\n",
    "# tldr : Backward graph is created automatically and dynamically by autograd class during forward pass.\n",
    "# Backward() simply calculates the gradients by passing its argument to the already made backward graph.\n",
    "\n",
    "y.backward(v)\n",
    "print(y.grad)\n",
    "print(x.grad)\n",
    "#retain.grad가 머징?\n",
    "##############################################"
   ],
   "metadata": {
    "collapsed": false,
    "pycharm": {
     "name": "#%%\n",
     "is_executing": false
    }
   }
  },
  {
   "cell_type": "code",
   "execution_count": 30,
   "outputs": [
    {
     "name": "stdout",
     "text": [
      "Epoch    0/1000 w1:0.294 w2:0.294 w3:0.297b:0.003 Cost: 29661.800781\n",
      "Epoch  100/1000 w1:0.674 w2:0.661 w3:0.676b:0.008 Cost: 1.563634\n",
      "Epoch  200/1000 w1:0.679 w2:0.655 w3:0.677b:0.008 Cost: 1.497603\n",
      "Epoch  300/1000 w1:0.684 w2:0.649 w3:0.677b:0.008 Cost: 1.435026\n",
      "Epoch  400/1000 w1:0.689 w2:0.643 w3:0.678b:0.008 Cost: 1.375730\n",
      "Epoch  500/1000 w1:0.694 w2:0.638 w3:0.678b:0.009 Cost: 1.319503\n",
      "Epoch  600/1000 w1:0.699 w2:0.633 w3:0.679b:0.009 Cost: 1.266215\n",
      "Epoch  700/1000 w1:0.704 w2:0.627 w3:0.679b:0.009 Cost: 1.215693\n",
      "Epoch  800/1000 w1:0.709 w2:0.622 w3:0.679b:0.009 Cost: 1.167821\n",
      "Epoch  900/1000 w1:0.713 w2:0.617 w3:0.680b:0.009 Cost: 1.122419\n",
      "Epoch 1000/1000 w1:0.718 w2:0.613 w3:0.680b:0.009 Cost: 1.079375\n"
     ],
     "output_type": "stream"
    }
   ],
   "source": [
    "import torch\n",
    "import torch.nn as nn\n",
    "import torch.nn.functional as F\n",
    "import torch.optim as optim\n",
    "\n",
    "torch. manual_seed(1)\n",
    "\n",
    "x1_train=torch.FloatTensor([[73],[93],[89],[96],[73]])\n",
    "x2_train=torch.FloatTensor([[80],[88],[91],[98],[66]])\n",
    "x3_train=torch.FloatTensor([[75],[93],[90],[100],[70]])\n",
    "y_train=torch.FloatTensor([[152],[185],[180],[196],[142]])\n",
    "w1=torch.zeros(1,requires_grad=True)\n",
    "w2=torch.zeros(1,requires_grad=True)\n",
    "w3=torch.zeros(1,requires_grad=True)\n",
    "b=torch.zeros(1, requires_grad=True)\n",
    "optimizer=optim.SGD([w1,w2,w3,b],lr=1e-5)\n",
    "nb_epochs=1000\n",
    "for epoch in range(nb_epochs+1):\n",
    "    hypothesis=x1_train*w1+x2_train*w2+x3_train*w3+b\n",
    "    cost=torch.mean((hypothesis-y_train)**2)\n",
    "    optimizer.zero_grad()\n",
    "    cost.backward()\n",
    "    optimizer.step()\n",
    "    if epoch%100==0:\n",
    "        print('Epoch {:4d}/{} w1:{:.3f} w2:{:.3f} w3:{:.3f} b:{:.3f} Cost: {:.6f}'.format(epoch, nb_epochs,w1.item(),w2.item(),w3.item(),b.item(), cost.item()))"
   ],
   "metadata": {
    "collapsed": false,
    "pycharm": {
     "name": "#%%\n",
     "is_executing": false
    }
   }
  },
  {
   "cell_type": "code",
   "execution_count": 31,
   "outputs": [
    {
     "name": "stdout",
     "text": [
      "torch.Size([5, 3])\n",
      "torch.Size([5, 1])\n"
     ],
     "output_type": "stream"
    }
   ],
   "source": [
    "x_train=torch.FloatTensor([[73, 80, 75],[93, 88, 93],[89,91,90],[96,98,100],[73,66,70]])\n",
    "y_train=torch.FloatTensor([[152],[185],[180],[196],[142]])\n",
    "print(x_train.shape)\n",
    "print(y_train.shape)\n",
    "W=torch.zeros((3,1),requires_grad=True) # 여기서 주목할점은 W의 크기가 (3x1)벡터라는 점 x와 행렬곱을 하려면 크기가 이렇게 설정되어야 한다.\n",
    "b=torch.zeros(1,requires_grad=True)\n",
    "hypothesis=x_train.matmul(W)+b #여기서 더해주는 b의 크기는 (5x1)의 행렬로 만들어줄 필요가 없다."
   ],
   "metadata": {
    "collapsed": false,
    "pycharm": {
     "name": "#%%\n",
     "is_executing": false
    }
   }
  },
  {
   "cell_type": "code",
   "execution_count": 37,
   "outputs": [
    {
     "name": "stdout",
     "text": [
      "Epoch    0/20 hypothesis: tensor([0., 0., 0., 0., 0.]) Cost: 29661.800781\n",
      "Epoch    1/20 hypothesis: tensor([67.2578, 80.8397, 79.6523, 86.7394, 61.6605]) Cost: 9298.520508\n",
      "Epoch    2/20 hypothesis: tensor([104.9128, 126.0990, 124.2466, 135.3015,  96.1821]) Cost: 2915.712646\n",
      "Epoch    3/20 hypothesis: tensor([125.9942, 151.4381, 149.2133, 162.4896, 115.5097]) Cost: 915.040527\n",
      "Epoch    4/20 hypothesis: tensor([137.7968, 165.6247, 163.1911, 177.7112, 126.3307]) Cost: 287.936005\n",
      "Epoch    5/20 hypothesis: tensor([144.4044, 173.5674, 171.0168, 186.2332, 132.3891]) Cost: 91.371017\n",
      "Epoch    6/20 hypothesis: tensor([148.1035, 178.0144, 175.3980, 191.0042, 135.7812]) Cost: 29.758139\n",
      "Epoch    7/20 hypothesis: tensor([150.1744, 180.5042, 177.8508, 193.6753, 137.6805]) Cost: 10.445305\n",
      "Epoch    8/20 hypothesis: tensor([151.3336, 181.8983, 179.2240, 195.1707, 138.7440]) Cost: 4.391228\n",
      "Epoch    9/20 hypothesis: tensor([151.9824, 182.6789, 179.9928, 196.0079, 139.3396]) Cost: 2.493135\n",
      "Epoch   10/20 hypothesis: tensor([152.3454, 183.1161, 180.4231, 196.4765, 139.6732]) Cost: 1.897688\n",
      "Epoch   11/20 hypothesis: tensor([152.5485, 183.3610, 180.6640, 196.7389, 139.8602]) Cost: 1.710541\n",
      "Epoch   12/20 hypothesis: tensor([152.6620, 183.4982, 180.7988, 196.8857, 139.9651]) Cost: 1.651413\n",
      "Epoch   13/20 hypothesis: tensor([152.7253, 183.5752, 180.8742, 196.9678, 140.0240]) Cost: 1.632387\n",
      "Epoch   14/20 hypothesis: tensor([152.7606, 183.6184, 180.9164, 197.0138, 140.0571]) Cost: 1.625923\n",
      "Epoch   15/20 hypothesis: tensor([152.7802, 183.6427, 180.9399, 197.0395, 140.0759]) Cost: 1.623412\n",
      "Epoch   16/20 hypothesis: tensor([152.7909, 183.6565, 180.9530, 197.0538, 140.0865]) Cost: 1.622141\n",
      "Epoch   17/20 hypothesis: tensor([152.7968, 183.6643, 180.9603, 197.0618, 140.0927]) Cost: 1.621253\n",
      "Epoch   18/20 hypothesis: tensor([152.7999, 183.6688, 180.9644, 197.0662, 140.0963]) Cost: 1.620500\n",
      "Epoch   19/20 hypothesis: tensor([152.8014, 183.6715, 180.9666, 197.0686, 140.0985]) Cost: 1.619770\n",
      "Epoch   20/20 hypothesis: tensor([152.8020, 183.6731, 180.9677, 197.0699, 140.1000]) Cost: 1.619033\n"
     ],
     "output_type": "stream"
    }
   ],
   "source": [
    "x_train  =  torch.FloatTensor([[73,  80,  75], \n",
    "                               [93,  88,  93], \n",
    "                               [89,  91,  90], \n",
    "                               [96,  98,  100],   \n",
    "                               [73,  66,  70]])  \n",
    "y_train  =  torch.FloatTensor([[152],  [185],  [180],  [196],  [142]])\n",
    "\n",
    "# 모델 초기화\n",
    "W = torch.zeros((3, 1), requires_grad=True)\n",
    "b = torch.zeros(1, requires_grad=True)\n",
    "# optimizer 설정\n",
    "optimizer = optim.SGD([W, b], lr=1e-5)\n",
    "\n",
    "nb_epochs = 20\n",
    "for epoch in range(nb_epochs + 1):\n",
    "\n",
    "    # H(x) 계산\n",
    "    # 편향 b는 브로드 캐스팅되어 각 샘플에 더해집니다.\n",
    "    hypothesis = x_train.matmul(W) + b\n",
    "\n",
    "    # cost 계산\n",
    "    cost = torch.mean((hypothesis - y_train) ** 2)\n",
    "\n",
    "    # cost로 H(x) 개선\n",
    "    optimizer.zero_grad()\n",
    "    cost.backward()\n",
    "    optimizer.step()\n",
    "    \n",
    "    print('Epoch {:4d}/{} hypothesis: {} Cost: {:.6f}'.format(epoch, nb_epochs, hypothesis.squeeze().detach(),cost.item()))\n",
    "    # detach()를 하지 않으면 텐서의 성분만 나오는게 아니라 grad_fn= ??? 까지 같이 나와버린다.\n",
    "    # if a detach is called then subsequent operations on that view will not be tracked\n",
    "    # 여기서 .datach() 대신에 .data도 가능\n",
    "    \n",
    "        "
   ],
   "metadata": {
    "collapsed": false,
    "pycharm": {
     "name": "#%%\n",
     "is_executing": false
    }
   }
  },
  {
   "cell_type": "code",
   "execution_count": 40,
   "outputs": [
    {
     "name": "stdout",
     "text": [
      "[Parameter containing:\n",
      "tensor([[0.5153]], requires_grad=True), Parameter containing:\n",
      "tensor([-0.4414], requires_grad=True)]\n",
      "Epoch    0/2000 Cost: 13.103540\n",
      "Epoch  100/2000 Cost: 0.002791\n",
      "Epoch  200/2000 Cost: 0.001724\n",
      "Epoch  300/2000 Cost: 0.001066\n",
      "Epoch  400/2000 Cost: 0.000658\n",
      "Epoch  500/2000 Cost: 0.000407\n",
      "Epoch  600/2000 Cost: 0.000251\n",
      "Epoch  700/2000 Cost: 0.000155\n",
      "Epoch  800/2000 Cost: 0.000096\n",
      "Epoch  900/2000 Cost: 0.000059\n",
      "Epoch 1000/2000 Cost: 0.000037\n",
      "Epoch 1100/2000 Cost: 0.000023\n",
      "Epoch 1200/2000 Cost: 0.000014\n",
      "Epoch 1300/2000 Cost: 0.000009\n",
      "Epoch 1400/2000 Cost: 0.000005\n",
      "Epoch 1500/2000 Cost: 0.000003\n",
      "Epoch 1600/2000 Cost: 0.000002\n",
      "Epoch 1700/2000 Cost: 0.000001\n",
      "Epoch 1800/2000 Cost: 0.000001\n",
      "Epoch 1900/2000 Cost: 0.000000\n",
      "Epoch 2000/2000 Cost: 0.000000\n",
      "훈련 후 입력이 4일 때의 예측값: tensor([[7.9989]], grad_fn=<AddmmBackward>)\n"
     ],
     "output_type": "stream"
    }
   ],
   "source": [
    "import torch\n",
    "import torch.nn as nn\n",
    "import torch.nn.functional as F\n",
    "torch.manual_seed(1)\n",
    "x_train=torch.FloatTensor([[1],[2],[3]])\n",
    "y_train=torch.FloatTensor([[2],[4],[6]])\n",
    "model=nn.Linear(1,1)\n",
    "print(list(model.parameters())) # model.parameters()라는 함수를 사용하여 불러올 수 있습니다.\n",
    "optimizer=torch.optim.SGD(model.parameters(),lr=0.01)\n",
    "nb_epochs=2000\n",
    "for epoch in range(nb_epochs+1):\n",
    "    prediction=model(x_train)\n",
    "    cost=F.mse_loss(prediction,y_train)\n",
    "    optimizer.zero_grad()\n",
    "    cost.backward()\n",
    "    optimizer.step()\n",
    "    if epoch %100==0:\n",
    "        print('Epoch {:4d}/{} Cost: {:.6f}'.format(epoch, nb_epochs, cost.item()))\n",
    "new_var=torch.FloatTensor([[4.0]])\n",
    "pred_y=model(new_var)\n",
    "    "
   ],
   "metadata": {
    "collapsed": false,
    "pycharm": {
     "name": "#%%\n",
     "is_executing": false
    }
   }
  },
  {
   "cell_type": "code",
   "execution_count": 41,
   "outputs": [
    {
     "name": "stdout",
     "text": [
      "훈련 후 입력이 4일 때의 예측값: tensor([[7.9989]], grad_fn=<AddmmBackward>)\n",
      "[Parameter containing:\n",
      "tensor([[1.9994]], requires_grad=True), Parameter containing:\n",
      "tensor([0.0014], requires_grad=True)]\n"
     ],
     "output_type": "stream"
    }
   ],
   "source": [
    "print(\"훈련 후 입력이 4일 때의 예측값:\", pred_y)\n",
    "print(list(model.parameters()))\n",
    "\n"
   ],
   "metadata": {
    "collapsed": false,
    "pycharm": {
     "name": "#%%\n",
     "is_executing": false
    }
   }
  },
  {
   "cell_type": "code",
   "execution_count": 42,
   "outputs": [],
   "source": [
    "# H(x) 식에 입력 x로부터 예측된 y를 얻는 것을 forward 연산이라고 합니다.\n",
    "# 학습 전, prediction = model(x_train)은 x_train으로부터 예측값을 리턴하므로 forward 연산입니다.\n",
    "# 학습 후, pred_y = model(new_var)는 임의의 값 new_var로부터 예측값을 리턴하므로 forward 연산입니다.\n",
    "# 학습 과정에서 비용 함수를 미분하여 기울기를 구하는 것을 backward 연산이라고 합니다.\n",
    "# cost.backward()는 비용 함수로부터 기울기를 구하라는 의미이며 backward 연산입니다.\n",
    "\n",
    "\n"
   ],
   "metadata": {
    "collapsed": false,
    "pycharm": {
     "name": "#%%\n",
     "is_executing": false
    }
   }
  },
  {
   "cell_type": "code",
   "execution_count": 47,
   "outputs": [
    {
     "name": "stdout",
     "text": [
      "[Parameter containing:\n",
      "tensor([[ 0.2975, -0.2548, -0.1119]], requires_grad=True), Parameter containing:\n",
      "tensor([0.2710], requires_grad=True)]\n",
      "Epoch    0/2000 Cost:31667.597656\n",
      "Epoch  100/2000 Cost:0.225993\n",
      "Epoch  200/2000 Cost:0.223911\n",
      "Epoch  300/2000 Cost:0.221941\n",
      "Epoch  400/2000 Cost:0.220059\n",
      "Epoch  500/2000 Cost:0.218271\n",
      "Epoch  600/2000 Cost:0.216575\n",
      "Epoch  700/2000 Cost:0.214950\n",
      "Epoch  800/2000 Cost:0.213413\n",
      "Epoch  900/2000 Cost:0.211952\n",
      "Epoch 1000/2000 Cost:0.210559\n",
      "Epoch 1100/2000 Cost:0.209230\n",
      "Epoch 1200/2000 Cost:0.207967\n",
      "Epoch 1300/2000 Cost:0.206762\n",
      "Epoch 1400/2000 Cost:0.205618\n",
      "Epoch 1500/2000 Cost:0.204529\n",
      "Epoch 1600/2000 Cost:0.203481\n",
      "Epoch 1700/2000 Cost:0.202486\n",
      "Epoch 1800/2000 Cost:0.201539\n",
      "Epoch 1900/2000 Cost:0.200634\n",
      "Epoch 2000/2000 Cost:0.199770\n"
     ],
     "output_type": "stream"
    }
   ],
   "source": [
    "import torch\n",
    "import torch.nn as nn\n",
    "import torch.nn.functional as F\n",
    "\n",
    "torch.manual_seed(1)\n",
    "x_train=torch.FloatTensor([[73,80,75],[93,88,93],[89,91,90],[96,98,100],[73,66,70]])\n",
    "y_train=torch.FloatTensor([[152],[185],[180],[196],[142]])\n",
    "model=nn.Linear(3,1)\n",
    "print(list(model.parameters())) # 파라미터값들은 모두 랜덤 초기화 되어있음.\n",
    "optimizer=torch.optim.SGD(model.parameters(),lr=1e-5) # lr이 0.01로 되면 기울기가 발산함\n",
    "nb_epochs=2000\n",
    "for epoch in range(nb_epochs+1):\n",
    "    prediction=model(x_train)\n",
    "    cost=F.mse_loss(prediction,y_train)\n",
    "    optimizer.zero_grad()\n",
    "    cost.backward()\n",
    "    optimizer.step()\n",
    "    if epoch % 100==0:\n",
    "        print('Epoch {:4d}/{} Cost:{:.6f}'.format(epoch,nb_epochs, cost.item()))\n"
   ],
   "metadata": {
    "collapsed": false,
    "pycharm": {
     "name": "#%%\n",
     "is_executing": false
    }
   }
  },
  {
   "cell_type": "code",
   "execution_count": 50,
   "outputs": [
    {
     "name": "stdout",
     "text": [
      "훈련 후 입력이 73, 80, 75일 때의 예측값 : tensor([[151.2306]], grad_fn=<AddmmBackward>)\n",
      "[Parameter containing:\n",
      "tensor([[0.9778, 0.4539, 0.5768]], requires_grad=True), Parameter containing:\n",
      "tensor([0.2802], requires_grad=True)]\n"
     ],
     "output_type": "stream"
    }
   ],
   "source": [
    "new_var=torch.FloatTensor([[73,80,75]])\n",
    "pred_y=model(new_var)\n",
    "print(\"훈련 후 입력이 73, 80, 75일 때의 예측값 :\",pred_y)\n",
    "print(list(model.parameters()))"
   ],
   "metadata": {
    "collapsed": false,
    "pycharm": {
     "name": "#%%\n",
     "is_executing": false
    }
   }
  },
  {
   "cell_type": "code",
   "execution_count": null,
   "outputs": [],
   "source": [
    "class LinearRegressionModel(nn.Module): # torch.nn.module 이라는 클래스를 상속받는 파이썬 클래스 선언\n",
    "    def __init__(self):\n",
    "        super().__init__()\n",
    "        self.linear=nn.Linear(1,1)\n",
    "    def forward(self):\n",
    "        return self.linear(x)\n",
    "    "
   ],
   "metadata": {
    "collapsed": false,
    "pycharm": {
     "name": "#%%\n"
    }
   }
  }
 ],
 "metadata": {
  "kernelspec": {
   "display_name": "Python 3",
   "language": "python",
   "name": "python3"
  },
  "language_info": {
   "codemirror_mode": {
    "name": "ipython",
    "version": 2
   },
   "file_extension": ".py",
   "mimetype": "text/x-python",
   "name": "python",
   "nbconvert_exporter": "python",
   "pygments_lexer": "ipython2",
   "version": "2.7.6"
  },
  "pycharm": {
   "stem_cell": {
    "cell_type": "raw",
    "source": [],
    "metadata": {
     "collapsed": false
    }
   }
  }
 },
 "nbformat": 4,
 "nbformat_minor": 0
}