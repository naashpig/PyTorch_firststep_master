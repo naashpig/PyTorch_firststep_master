{
 "cells": [
  {
   "cell_type": "code",
   "execution_count": 1,
   "metadata": {
    "collapsed": true,
    "pycharm": {
     "is_executing": false
    }
   },
   "outputs": [
    {
     "name": "stdout",
     "text": [
      "tensor([1, 2, 3, 4])\n"
     ],
     "output_type": "stream"
    }
   ],
   "source": [
    "import torch\n",
    "It=torch.LongTensor([1,2,3,4])\n",
    "print(It)\n"
   ]
  },
  {
   "cell_type": "code",
   "execution_count": 2,
   "outputs": [
    {
     "name": "stdout",
     "text": [
      "tensor([1., 2., 3., 4.])\n"
     ],
     "output_type": "stream"
    }
   ],
   "source": [
    "print(It.float())"
   ],
   "metadata": {
    "collapsed": false,
    "pycharm": {
     "name": "#%%\n",
     "is_executing": false
    }
   }
  },
  {
   "cell_type": "code",
   "execution_count": 3,
   "outputs": [
    {
     "name": "stdout",
     "text": [
      "tensor([1, 0, 0, 1], dtype=torch.uint8)\n"
     ],
     "output_type": "stream"
    }
   ],
   "source": [
    "bt=torch.ByteTensor([True,False,False,True])\n",
    "print(bt)"
   ],
   "metadata": {
    "collapsed": false,
    "pycharm": {
     "name": "#%%\n",
     "is_executing": false
    }
   }
  },
  {
   "cell_type": "code",
   "execution_count": 4,
   "outputs": [
    {
     "name": "stdout",
     "text": [
      "tensor([1, 0, 0, 1])\n",
      "tensor([1., 0., 0., 1.])\n"
     ],
     "output_type": "stream"
    }
   ],
   "source": [
    "print(bt.long())\n",
    "print(bt.float())\n"
   ],
   "metadata": {
    "collapsed": false,
    "pycharm": {
     "name": "#%%\n",
     "is_executing": false
    }
   }
  },
  {
   "cell_type": "code",
   "execution_count": 5,
   "outputs": [
    {
     "name": "stdout",
     "text": [
      "tensor([[1., 2.],\n",
      "        [3., 4.],\n",
      "        [5., 6.],\n",
      "        [7., 8.]])\n"
     ],
     "output_type": "stream"
    }
   ],
   "source": [
    "x=torch.FloatTensor([[1,2],[3,4]])\n",
    "y=torch.FloatTensor([[5,6],[7,8]])\n",
    "print(torch.cat([x,y],dim=0)) #dim=0은 첫번째 차원을 늘리라는 의미를 담음\n",
    "#2x2 2개가 4x2가 됨"
   ],
   "metadata": {
    "collapsed": false,
    "pycharm": {
     "name": "#%%\n",
     "is_executing": false
    }
   }
  },
  {
   "cell_type": "code",
   "execution_count": 8,
   "outputs": [
    {
     "name": "stdout",
     "text": [
      "tensor([[1., 2., 5., 6.],\n",
      "        [3., 4., 7., 8.]])\n"
     ],
     "output_type": "stream"
    }
   ],
   "source": [
    "print(torch.cat([x,y],dim=1))\n",
    "# 2x4가 됨"
   ],
   "metadata": {
    "collapsed": false,
    "pycharm": {
     "name": "#%%\n",
     "is_executing": false
    }
   }
  },
  {
   "cell_type": "code",
   "execution_count": 10,
   "outputs": [
    {
     "name": "stdout",
     "text": [
      "tensor([[1., 4.],\n",
      "        [2., 5.],\n",
      "        [3., 6.]])\n",
      "tensor([[1., 4.],\n",
      "        [2., 5.],\n",
      "        [3., 6.]])\n"
     ],
     "output_type": "stream"
    }
   ],
   "source": [
    "x=torch.FloatTensor([1,4])\n",
    "y=torch.FloatTensor([2,5])\n",
    "z=torch.FloatTensor([3,6])\n",
    "\n",
    "print(torch.stack([x,y,z]))\n",
    "print(torch.cat([x.unsqueeze(0),y.unsqueeze(0),z.unsqueeze(0)],dim=0))\n",
    "# 위 둘은 같은 연산을 실행, stack은 많은 연산을 한번에 할 수 있는 명령어이다."
   ],
   "metadata": {
    "collapsed": false,
    "pycharm": {
     "name": "#%%\n",
     "is_executing": false
    }
   }
  },
  {
   "cell_type": "code",
   "execution_count": 11,
   "outputs": [
    {
     "name": "stdout",
     "text": [
      "tensor([[1., 2., 3.],\n",
      "        [4., 5., 6.]])\n"
     ],
     "output_type": "stream"
    }
   ],
   "source": [
    "print(torch.stack([x,y,z],dim=1))\n",
    "# dim=1은 두번째 차원이 증가하도록 쌓으라는 뜻"
   ],
   "metadata": {
    "collapsed": false,
    "pycharm": {
     "name": "#%%\n",
     "is_executing": false
    }
   }
  },
  {
   "cell_type": "code",
   "execution_count": 15,
   "outputs": [
    {
     "name": "stdout",
     "text": [
      "tensor([[0., 1., 2.],\n",
      "        [2., 1., 0.]])\n",
      "tensor([[1., 1., 1.],\n",
      "        [1., 1., 1.]])\n",
      "tensor([[0., 0., 0.],\n",
      "        [0., 0., 0.]])\n"
     ],
     "output_type": "stream"
    }
   ],
   "source": [
    "x= torch.FloatTensor([[0,1,2],[2,1,0]])\n",
    "print(x)\n",
    "print(torch.ones_like(x)) # x shape은 같지만 1로 값이 채워진 텐서 생성\n",
    "print(torch.zeros_like(x))"
   ],
   "metadata": {
    "collapsed": false,
    "pycharm": {
     "name": "#%%\n",
     "is_executing": false
    }
   }
  },
  {
   "cell_type": "code",
   "execution_count": 17,
   "outputs": [
    {
     "name": "stdout",
     "text": [
      "tensor([[2., 4.],\n",
      "        [6., 8.]])\n",
      "tensor([[1., 2.],\n",
      "        [3., 4.]])\n",
      "tensor([[2., 4.],\n",
      "        [6., 8.]])\n",
      "tensor([[2., 4.],\n",
      "        [6., 8.]])\n"
     ],
     "output_type": "stream"
    }
   ],
   "source": [
    "x=torch.FloatTensor([[1,2],[3,4]])\n",
    "print(x.mul(2.))\n",
    "print(x)\n",
    "print(x.mul_(2.)) # 기존 연산에 _를 붙여버리면 x에 붙여쓰기를 해버린다.\n",
    "print(x)\n",
    "#matmul은 행렬의 곱셈이지만 *과 mul은 element-wise 곱셈이다."
   ],
   "metadata": {
    "collapsed": false,
    "pycharm": {
     "name": "#%%\n",
     "is_executing": false
    }
   }
  },
  {
   "cell_type": "code",
   "execution_count": 18,
   "outputs": [
    {
     "name": "stdout",
     "text": [
      "3\n",
      "7\n"
     ],
     "output_type": "stream"
    }
   ],
   "source": [
    "# 파이썬 클래스\n",
    "result=0\n",
    "def add(num):\n",
    "    global result #전역변수 선언했던것을 함수에서 사용하려면 이렇게\n",
    "    result+=num\n",
    "    return result\n",
    "print(add(3))\n",
    "print(add(4))"
   ],
   "metadata": {
    "collapsed": false,
    "pycharm": {
     "name": "#%%\n",
     "is_executing": false
    }
   }
  },
  {
   "cell_type": "code",
   "execution_count": null,
   "outputs": [],
   "source": [
    "result1=0\n",
    "result2=0\n",
    "\n",
    "def add1(num):\n",
    "    global result1\n",
    "    result1 +=num\n",
    "    return result1\n",
    "\n",
    "def add2(num):\n",
    "    global result2\n",
    "    result2+=num\n",
    "    return result2\n",
    "print(add1(3))\n",
    "print(add1(4))\n",
    "print(add2(3))\n",
    "print(add2(4))"
   ],
   "metadata": {
    "collapsed": false,
    "pycharm": {
     "name": "#%%\n"
    }
   }
  },
  {
   "cell_type": "code",
   "execution_count": 19,
   "outputs": [
    {
     "name": "stdout",
     "text": [
      "3\n",
      "7\n",
      "3\n",
      "10\n"
     ],
     "output_type": "stream"
    }
   ],
   "source": [
    "class sum:\n",
    "    def __init__(self):\n",
    "        self.result=0\n",
    "    def add(self,num):\n",
    "        self.result+=num\n",
    "        return self.result\n",
    "cal1=sum()\n",
    "cal2=sum()\n",
    "print(cal1.add(3))\n",
    "print(cal1.add(4))\n",
    "print(cal2.add(3))\n",
    "print(cal2.add(7))\n",
    "\n",
    "        \n",
    "\n",
    "class sum:\n",
    "    def __init__(self):\n",
    "        self.result=0\n",
    "    def add(self, num):\n",
    "        self.result+=num\n",
    "        return self.result\n",
    "\n",
    "\n",
    "        "
   ],
   "metadata": {
    "collapsed": false,
    "pycharm": {
     "name": "#%%\n",
     "is_executing": false
    }
   }
  }
 ],
 "metadata": {
  "kernelspec": {
   "display_name": "Python 3",
   "language": "python",
   "name": "python3"
  },
  "language_info": {
   "codemirror_mode": {
    "name": "ipython",
    "version": 2
   },
   "file_extension": ".py",
   "mimetype": "text/x-python",
   "name": "python",
   "nbconvert_exporter": "python",
   "pygments_lexer": "ipython2",
   "version": "2.7.6"
  },
  "pycharm": {
   "stem_cell": {
    "cell_type": "raw",
    "source": [],
    "metadata": {
     "collapsed": false
    }
   }
  }
 },
 "nbformat": 4,
 "nbformat_minor": 0
}